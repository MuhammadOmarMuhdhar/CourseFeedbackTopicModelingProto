{
 "cells": [
  {
   "cell_type": "code",
   "execution_count": 3,
   "metadata": {},
   "outputs": [],
   "source": [
    "from bs4 import BeautifulSoup\n",
    "import requests\n",
    "import pandas as pd"
   ]
  },
  {
   "cell_type": "code",
   "execution_count": 20,
   "metadata": {},
   "outputs": [],
   "source": [
    "boot_camps = ['le-wagon', 'brainstation', 'simplilearn']\n",
    "\n",
    "base_url = 'https://www.coursereport.com/schools/{}?shared_review={}#reviews'\n",
    "\n",
    "all_reviews = []\n",
    "\n",
    "for boot_camp in boot_camps:\n",
    "    page = 1\n",
    "\n",
    "    while True:\n",
    "        # Get page content\n",
    "        url = base_url.format(boot_camp, page)\n",
    "        response = requests.get(url)\n",
    "        if response.status_code != 200:\n",
    "            print(f\"Failed to fetch page {page} for {boot_camp}. Exiting...\")\n",
    "            break\n",
    "\n",
    "        soup = BeautifulSoup(response.content, 'html.parser')\n",
    "        review_elements = soup.find_all('li', class_='py-6')\n",
    "\n",
    "        # Break the loop if no more reviews are found\n",
    "        if not review_elements:\n",
    "            print(f\"No more reviews found for {boot_camp} on page {page}. Exiting...\")\n",
    "            break\n",
    "\n",
    "        # Extract information from each review\n",
    "        for review in review_elements:\n",
    "            # Extract Field of Bootcamp\n",
    "            field_text = None\n",
    "            fields = review.find('div', class_='flex text-gray-medium space-x-4')\n",
    "            if fields:\n",
    "                raw_text = fields.text.strip()  # Extract raw text\n",
    "                # Split on \"•\"\n",
    "                segments = [segment.strip() for segment in raw_text.split('•') if segment.strip()]\n",
    "                # Find the segment containing the bootcamp name\n",
    "                for segment in segments:\n",
    "                    if 'Bootcamp' in segment:\n",
    "                        field_text = segment\n",
    "                        break\n",
    "\n",
    "            # Extract review date\n",
    "            review_date = review.find('div', class_='text-gray-medium flex-shrink-0')\n",
    "            review_date = review_date.text.strip() if review_date else None\n",
    "\n",
    "            # Extract all categories and their respective star ratings\n",
    "            ratings = {}\n",
    "            categories = review.select('div.grid.grid-cols-2')  # Select all category sections\n",
    "            for category in categories:\n",
    "                category_name = category.find('div')\n",
    "                stars = category.select('div.flex svg.fill-current.text-orange')\n",
    "                if category_name and stars:\n",
    "                    ratings[category_name.text.strip()] = len(stars)\n",
    "\n",
    "            # Extract review content\n",
    "            review_content = review.find('div', class_='text-sm text-gray-darkest leading-loose break-words')\n",
    "            review_content = review_content.text.strip() if review_content else None\n",
    "\n",
    "            # Combine all data into the reviews list\n",
    "            all_reviews.append({\n",
    "                'bootcamp': boot_camp,\n",
    "                'review_date': review_date,\n",
    "                'field': field_text,\n",
    "                'Overall Experience': ratings.get('Overall Experience', None),\n",
    "                'Job Assistance': ratings.get('Job Assistance', None),\n",
    "                'Instructors': ratings.get('Instructors', None),\n",
    "                'Curriculum': ratings.get('Curriculum', None),\n",
    "                'review_content': review_content\n",
    "            })\n",
    "\n",
    "        # Increment the page counter\n",
    "        if page > 1000:\n",
    "            break\n",
    "        else:\n",
    "            page += 1\n"
   ]
  },
  {
   "cell_type": "code",
   "execution_count": 21,
   "metadata": {},
   "outputs": [
    {
     "data": {
      "text/plain": [
       "(37668, 8)"
      ]
     },
     "execution_count": 21,
     "metadata": {},
     "output_type": "execute_result"
    }
   ],
   "source": [
    "df = pd.DataFrame(all_reviews)\n",
    "df.shape"
   ]
  },
  {
   "cell_type": "code",
   "execution_count": 22,
   "metadata": {},
   "outputs": [
    {
     "name": "stdout",
     "output_type": "stream",
     "text": [
      "(1676, 8)\n"
     ]
    },
    {
     "data": {
      "text/html": [
       "<div>\n",
       "<style scoped>\n",
       "    .dataframe tbody tr th:only-of-type {\n",
       "        vertical-align: middle;\n",
       "    }\n",
       "\n",
       "    .dataframe tbody tr th {\n",
       "        vertical-align: top;\n",
       "    }\n",
       "\n",
       "    .dataframe thead th {\n",
       "        text-align: right;\n",
       "    }\n",
       "</style>\n",
       "<table border=\"1\" class=\"dataframe\">\n",
       "  <thead>\n",
       "    <tr style=\"text-align: right;\">\n",
       "      <th></th>\n",
       "      <th>bootcamp</th>\n",
       "      <th>review_date</th>\n",
       "      <th>field</th>\n",
       "      <th>Overall Experience</th>\n",
       "      <th>Job Assistance</th>\n",
       "      <th>Instructors</th>\n",
       "      <th>Curriculum</th>\n",
       "      <th>review_content</th>\n",
       "    </tr>\n",
       "  </thead>\n",
       "  <tbody>\n",
       "    <tr>\n",
       "      <th>0</th>\n",
       "      <td>le-wagon</td>\n",
       "      <td>Sep 15, 2014</td>\n",
       "      <td>None</td>\n",
       "      <td>5</td>\n",
       "      <td>5.0</td>\n",
       "      <td>5</td>\n",
       "      <td>5</td>\n",
       "      <td>I was a student at MakerSquare and I am curren...</td>\n",
       "    </tr>\n",
       "    <tr>\n",
       "      <th>1</th>\n",
       "      <td>le-wagon</td>\n",
       "      <td>Dec 20, 2024</td>\n",
       "      <td>Consultant â€¢ Student â€¢ Data Science &amp; AI B...</td>\n",
       "      <td>5</td>\n",
       "      <td>NaN</td>\n",
       "      <td>5</td>\n",
       "      <td>5</td>\n",
       "      <td>Great bootcamp, great content and teachers.Â 9...</td>\n",
       "    </tr>\n",
       "    <tr>\n",
       "      <th>2</th>\n",
       "      <td>le-wagon</td>\n",
       "      <td>Dec 17, 2024</td>\n",
       "      <td>Graduate â€¢ Web Development Bootcamp - Full-t...</td>\n",
       "      <td>5</td>\n",
       "      <td>5.0</td>\n",
       "      <td>5</td>\n",
       "      <td>5</td>\n",
       "      <td>Attending Le Wagon Cape Town's Web Development...</td>\n",
       "    </tr>\n",
       "    <tr>\n",
       "      <th>3</th>\n",
       "      <td>le-wagon</td>\n",
       "      <td>Dec 16, 2024</td>\n",
       "      <td>Student â€¢ Web Development Bootcamp - Full-ti...</td>\n",
       "      <td>5</td>\n",
       "      <td>NaN</td>\n",
       "      <td>5</td>\n",
       "      <td>5</td>\n",
       "      <td>I really appreciated the focus of the bootcamp...</td>\n",
       "    </tr>\n",
       "    <tr>\n",
       "      <th>4</th>\n",
       "      <td>le-wagon</td>\n",
       "      <td>Dec 16, 2024</td>\n",
       "      <td>Graduate â€¢ Web Development Bootcamp - Full-t...</td>\n",
       "      <td>5</td>\n",
       "      <td>5.0</td>\n",
       "      <td>5</td>\n",
       "      <td>5</td>\n",
       "      <td>Le Wagon was an incredible journey. The bootca...</td>\n",
       "    </tr>\n",
       "  </tbody>\n",
       "</table>\n",
       "</div>"
      ],
      "text/plain": [
       "   bootcamp   review_date                                              field  \\\n",
       "0  le-wagon  Sep 15, 2014                                               None   \n",
       "1  le-wagon  Dec 20, 2024  Consultant â€¢ Student â€¢ Data Science & AI B...   \n",
       "2  le-wagon  Dec 17, 2024  Graduate â€¢ Web Development Bootcamp - Full-t...   \n",
       "3  le-wagon  Dec 16, 2024  Student â€¢ Web Development Bootcamp - Full-ti...   \n",
       "4  le-wagon  Dec 16, 2024  Graduate â€¢ Web Development Bootcamp - Full-t...   \n",
       "\n",
       "   Overall Experience  Job Assistance  Instructors  Curriculum  \\\n",
       "0                   5             5.0            5           5   \n",
       "1                   5             NaN            5           5   \n",
       "2                   5             5.0            5           5   \n",
       "3                   5             NaN            5           5   \n",
       "4                   5             5.0            5           5   \n",
       "\n",
       "                                      review_content  \n",
       "0  I was a student at MakerSquare and I am curren...  \n",
       "1  Great bootcamp, great content and teachers.Â 9...  \n",
       "2  Attending Le Wagon Cape Town's Web Development...  \n",
       "3  I really appreciated the focus of the bootcamp...  \n",
       "4  Le Wagon was an incredible journey. The bootca...  "
      ]
     },
     "execution_count": 22,
     "metadata": {},
     "output_type": "execute_result"
    }
   ],
   "source": [
    "df = pd.DataFrame(all_reviews)\n",
    "df.drop_duplicates(inplace=True)\n",
    "print(df.shape)\n",
    "df.head()"
   ]
  },
  {
   "cell_type": "code",
   "execution_count": 23,
   "metadata": {},
   "outputs": [
    {
     "data": {
      "text/plain": [
       "bootcamp\n",
       "le-wagon        570\n",
       "brainstation    553\n",
       "simplilearn     553\n",
       "Name: count, dtype: int64"
      ]
     },
     "execution_count": 23,
     "metadata": {},
     "output_type": "execute_result"
    }
   ],
   "source": [
    "df['bootcamp'].value_counts()"
   ]
  },
  {
   "cell_type": "code",
   "execution_count": 27,
   "metadata": {},
   "outputs": [
    {
     "data": {
      "text/plain": [
       "Overall Experience\n",
       "5    1676\n",
       "Name: count, dtype: int64"
      ]
     },
     "execution_count": 27,
     "metadata": {},
     "output_type": "execute_result"
    }
   ],
   "source": [
    "df['Overall Experience'].value_counts()"
   ]
  },
  {
   "cell_type": "code",
   "execution_count": null,
   "metadata": {},
   "outputs": [],
   "source": []
  }
 ],
 "metadata": {
  "kernelspec": {
   "display_name": "base",
   "language": "python",
   "name": "python3"
  },
  "language_info": {
   "codemirror_mode": {
    "name": "ipython",
    "version": 3
   },
   "file_extension": ".py",
   "mimetype": "text/x-python",
   "name": "python",
   "nbconvert_exporter": "python",
   "pygments_lexer": "ipython3",
   "version": "3.11.7"
  }
 },
 "nbformat": 4,
 "nbformat_minor": 2
}
